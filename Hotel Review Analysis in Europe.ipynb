{
 "cells": [
  {
   "cell_type": "markdown",
   "id": "alert-admission",
   "metadata": {},
   "source": [
    "## Buliding Sentimental Analysis system with ML Based Approach"
   ]
  },
  {
   "cell_type": "markdown",
   "id": "legendary-likelihood",
   "metadata": {},
   "source": [
    "Sentiment Analysis has become increasingly important as more opinions are expressed online, in unstructured form.\n",
    "\n",
    "Built a Sentimental Analyzer of Hotel Reviews in Eupore\n",
    "to predict the customer satisfication using Machine Learning Approach(Naive Bayes Classifier) from scratch."
   ]
  },
  {
   "cell_type": "markdown",
   "id": "promotional-garbage",
   "metadata": {},
   "source": [
    "#### Importing Required Libraries"
   ]
  },
  {
   "cell_type": "code",
   "execution_count": null,
   "id": "wanted-explanation",
   "metadata": {},
   "outputs": [],
   "source": [
    "import numpy as np\n",
    "import matplotlib.pyplot as plt\n",
    "import nltk"
   ]
  },
  {
   "cell_type": "markdown",
   "id": "utility-extra",
   "metadata": {},
   "source": [
    "#### Read the Reviews"
   ]
  },
  {
   "cell_type": "code",
   "execution_count": null,
   "id": "accomplished-moore",
   "metadata": {},
   "outputs": [],
   "source": [
    "negativeReviewFileName = \"/Users/priya/Documents/Intern/Sentimental_analysis/nega.txt\"\n",
    "\n",
    "with open(negativeReviewFileName, 'r') as f:\n",
    "    negativeReview = f.readlines()"
   ]
  },
  {
   "cell_type": "code",
   "execution_count": 62,
   "id": "angry-ordinance",
   "metadata": {},
   "outputs": [
    {
     "data": {
      "text/plain": [
       "4578"
      ]
     },
     "execution_count": 62,
     "metadata": {},
     "output_type": "execute_result"
    }
   ],
   "source": [
    "len(negativeReview)"
   ]
  },
  {
   "cell_type": "code",
   "execution_count": 63,
   "id": "varied-massage",
   "metadata": {},
   "outputs": [],
   "source": [
    "positiveReviewFileName = \"/Users/priya/Documents/Intern/Sentimental_analysis/posi.txt\"\n",
    "\n",
    "with open(positiveReviewFileName, 'r') as f:\n",
    "    positiveReview = f.readlines()"
   ]
  },
  {
   "cell_type": "code",
   "execution_count": 118,
   "id": "limiting-malta",
   "metadata": {},
   "outputs": [
    {
     "data": {
      "text/plain": [
       "' Rooms were stunningly decorated and really spacious in the top of the building Pictures are of room 300 The true beauty of the building has been kept but modernised brilliantly Also the bath was lovely and big and inviting Great more for couples Restaurant menu was a bit pricey but there were loads of little eatery places nearby within walking distance and the tram stop into the centre was about a 6 minute walk away and only about 3 or 4 stops from the centre of Amsterdam Would recommend this hotel to anyone it s unbelievably well priced too \\n'"
      ]
     },
     "execution_count": 118,
     "metadata": {},
     "output_type": "execute_result"
    }
   ],
   "source": [
    "positiveReview[10]"
   ]
  },
  {
   "cell_type": "code",
   "execution_count": 65,
   "id": "permanent-investor",
   "metadata": {},
   "outputs": [
    {
     "data": {
      "text/plain": [
       "4579"
      ]
     },
     "execution_count": 65,
     "metadata": {},
     "output_type": "execute_result"
    }
   ],
   "source": [
    "len(positiveReview)"
   ]
  },
  {
   "cell_type": "markdown",
   "id": "working-software",
   "metadata": {},
   "source": [
    "#### STEP 1 : Split Corpus into Training and Testing"
   ]
  },
  {
   "cell_type": "code",
   "execution_count": 66,
   "id": "narrow-germany",
   "metadata": {},
   "outputs": [],
   "source": [
    "#out of 514889 -- o to 2200 as training, 2201 to 4579 as test\n",
    "testTrainingSplitIndex = 2200\n",
    "\n",
    "#training set\n",
    "trainingPositiveReview =  positiveReview[:testTrainingSplitIndex]\n",
    "trainingNegativeReview = negativeReview[:testTrainingSplitIndex]\n",
    "\n",
    "#test set\n",
    "testPositiveReview = positiveReview[testTrainingSplitIndex+1:]\n",
    "testNegativeReview = negativeReview[testTrainingSplitIndex+1:]"
   ]
  },
  {
   "cell_type": "code",
   "execution_count": 67,
   "id": "excellent-fairy",
   "metadata": {},
   "outputs": [
    {
     "data": {
      "text/plain": [
       "2200"
      ]
     },
     "execution_count": 67,
     "metadata": {},
     "output_type": "execute_result"
    }
   ],
   "source": [
    "len(trainingPositiveReview)"
   ]
  },
  {
   "cell_type": "markdown",
   "id": "color-depression",
   "metadata": {},
   "source": [
    "#### STEP 2 : Define Vocabulary of Training data\n"
   ]
  },
  {
   "cell_type": "code",
   "execution_count": 68,
   "id": "placed-cradle",
   "metadata": {},
   "outputs": [],
   "source": [
    "def getVocabulary():\n",
    "    positiveWordList = [word for line in trainingPositiveReview for word in line.split()]\n",
    "    negativeWordList = [word for line in trainingNegativeReview for word in line.split()]\n",
    " #a list in which each word in training data occur exactly once\n",
    "   \n",
    "    allWordList = [item for sublist in [positiveWordList,negativeWordList] for item in sublist]\n",
    "    allWordSet = list(set(allWordList))\n",
    "    vocabulary = allWordSet\n",
    "    return vocabulary\n"
   ]
  },
  {
   "cell_type": "code",
   "execution_count": 69,
   "id": "caroline-steal",
   "metadata": {},
   "outputs": [
    {
     "data": {
      "text/plain": [
       "'Wasn'"
      ]
     },
     "execution_count": 69,
     "metadata": {},
     "output_type": "execute_result"
    }
   ],
   "source": [
    "vocabulary = getVocabulary()\n",
    "vocabulary[0]"
   ]
  },
  {
   "cell_type": "code",
   "execution_count": 70,
   "id": "rough-battle",
   "metadata": {},
   "outputs": [
    {
     "data": {
      "text/plain": [
       "6065"
      ]
     },
     "execution_count": 70,
     "metadata": {},
     "output_type": "execute_result"
    }
   ],
   "source": [
    "#no of unique words present in positive and negative\n",
    "len(vocabulary)"
   ]
  },
  {
   "cell_type": "markdown",
   "id": "comfortable-dispute",
   "metadata": {},
   "source": [
    "#### STEP 3: Data Transformation"
   ]
  },
  {
   "cell_type": "code",
   "execution_count": 71,
   "id": "checked-trigger",
   "metadata": {},
   "outputs": [],
   "source": [
    "# dividing features into review and label in the form of  tuples\n",
    "#setting up the data in the form that is accepted my nltk\n",
    "\n",
    "def getTrainingData():\n",
    "    negTaggedTrainingReviewList = [{'review' :oneReview.split(), 'label' : 'negative'} for oneReview in trainingNegativeReview]\n",
    "    posTaggedTrainingReviewList = [{'review' :oneReview.split(), 'label' : 'positive'} for oneReview in trainingPositiveReview]\n",
    "    fullTaggedTrainingData = [item for sublist in [negTaggedTrainingReviewList,posTaggedTrainingReviewList] for item in sublist]\n",
    "    trainingData =[(review['review'],review['label']) for review in fullTaggedTrainingData]\n",
    "    return trainingData"
   ]
  },
  {
   "cell_type": "code",
   "execution_count": 111,
   "id": "bearing-girlfriend",
   "metadata": {},
   "outputs": [
    {
     "data": {
      "text/plain": [
       "(['Disabled', 'access'], 'negative')"
      ]
     },
     "execution_count": 111,
     "metadata": {},
     "output_type": "execute_result"
    }
   ],
   "source": [
    "''' As we see here, The review is in form of array and label is present (TUPLES)'''\n",
    "\n",
    "trainingData = getTrainingData()\n",
    "trainingData[782]"
   ]
  },
  {
   "cell_type": "code",
   "execution_count": 74,
   "id": "digital-participant",
   "metadata": {},
   "outputs": [
    {
     "data": {
      "text/plain": [
       "4400"
      ]
     },
     "execution_count": 74,
     "metadata": {},
     "output_type": "execute_result"
    }
   ],
   "source": [
    "#length of overall training data is 4400 (ie., 2200 training_postive and 2200 training-negative)\n",
    "len(trainingData)"
   ]
  },
  {
   "cell_type": "markdown",
   "id": "later-venice",
   "metadata": {},
   "source": [
    "#### STEP 4 : Feature Extraction using nltk"
   ]
  },
  {
   "cell_type": "code",
   "execution_count": 80,
   "id": "aquatic-comparison",
   "metadata": {},
   "outputs": [],
   "source": [
    "# feature extarction -->func takes in review and return feature vector\n",
    "\n",
    "def extract_features(review):\n",
    "    review_words = set(review)\n",
    "    features = {}  #returns dictionary\n",
    "    \n",
    "    for words in vocabulary:\n",
    "        features[words] =(words in review_words)\n",
    "    return features  "
   ]
  },
  {
   "cell_type": "markdown",
   "id": "protective-orbit",
   "metadata": {},
   "source": [
    "#### STEP 5: Training the Classifier"
   ]
  },
  {
   "cell_type": "code",
   "execution_count": 81,
   "id": "promotional-break",
   "metadata": {},
   "outputs": [],
   "source": [
    "def getTrainedNaiveBayesClassifier(extract_features,trainingData):\n",
    "    #covert training data into list of feature vectors\n",
    "    trainingFeatures = nltk.classify.apply_features(extract_features, trainingData)\n",
    "    \n",
    "    #returns trained Naive Bayes classifier\n",
    "    trainedNBClassifier = nltk.NaiveBayesClassifier.train(trainingFeatures)\n",
    "    return trainedNBClassifier"
   ]
  },
  {
   "cell_type": "code",
   "execution_count": 82,
   "id": "stopped-billion",
   "metadata": {},
   "outputs": [],
   "source": [
    "#we save the return value in object \"trainedNBclassifier\" and use it to run the test data\n",
    "trainedNBClassifier = getTrainedNaiveBayesClassifier(extract_features,trainingData)"
   ]
  },
  {
   "cell_type": "markdown",
   "id": "unique-continuity",
   "metadata": {},
   "source": [
    "#### Using the Classifier"
   ]
  },
  {
   "cell_type": "code",
   "execution_count": 83,
   "id": "saving-edition",
   "metadata": {},
   "outputs": [],
   "source": [
    "def naiveBayesSentimentalCal(review):\n",
    "    problemInstance = review.split()\n",
    "    \n",
    "    #naive bayes classifier needs inout in the format of feature vector\n",
    "    problemFeatures = extract_features(problemInstance)  \n",
    "    return trainedNBClassifier.classify(problemFeatures)\n"
   ]
  },
  {
   "cell_type": "code",
   "execution_count": 88,
   "id": "smart-thumb",
   "metadata": {},
   "outputs": [
    {
     "data": {
      "text/plain": [
       "'positive'"
      ]
     },
     "execution_count": 88,
     "metadata": {},
     "output_type": "execute_result"
    }
   ],
   "source": [
    "#test drive for classifier\n",
    "naiveBayesSentimentalCal(\"What an awesome movie\")"
   ]
  },
  {
   "cell_type": "code",
   "execution_count": 89,
   "id": "nervous-ticket",
   "metadata": {},
   "outputs": [
    {
     "data": {
      "text/plain": [
       "'negative'"
      ]
     },
     "execution_count": 89,
     "metadata": {},
     "output_type": "execute_result"
    }
   ],
   "source": [
    "naiveBayesSentimentalCal(\"What an terrible movie\")"
   ]
  },
  {
   "cell_type": "markdown",
   "id": "infrared-hundred",
   "metadata": {},
   "source": [
    "#### STEP 6: Invoke using test harness"
   ]
  },
  {
   "cell_type": "code",
   "execution_count": 90,
   "id": "aboriginal-honduras",
   "metadata": {},
   "outputs": [],
   "source": [
    "def getTestReviewSenti(naiveBayesSentimentalCal):\n",
    "    \n",
    "    #function is applied to each and every review in positive and negative training\n",
    "    testNegResults = [naiveBayesSentimentalCal(review) for review in testNegativeReview]\n",
    "    testPosResults = [naiveBayesSentimentalCal(review) for review in testPositiveReview]\n",
    "    labelToNum ={'positive': 1, 'negative': -1}\n",
    "    \n",
    "    numericNegResults = [labelToNum[x] for x in testNegResults]\n",
    "    numericPosResults = [labelToNum[x] for x in testPosResults]\n",
    "    \n",
    "    # returns dictionary with 2 lists\n",
    "    return { 'result_on_positive' : numericPosResults,'result_on_negative' : numericNegResults }"
   ]
  },
  {
   "cell_type": "markdown",
   "id": "convinced-shower",
   "metadata": {},
   "source": [
    "#### Testing Accuracy of the Classifier"
   ]
  },
  {
   "cell_type": "code",
   "execution_count": 85,
   "id": "serial-brain",
   "metadata": {},
   "outputs": [],
   "source": [
    "#Testing Accuracy \n",
    "\n",
    "def runDiagnostics(reviewResult): \n",
    "    positiveReviewsResult = reviewResult['result_on_positive']\n",
    "    negativeReviewsResult = reviewResult['result_on_negative'] \n",
    "    \n",
    "    numTruePositive = sum(x > 0 for x in positiveReviewsResult)\n",
    "    numTrueNegative = sum(x < 0 for x in negativeReviewsResult)\n",
    "    \n",
    "    pctTruePositive = float(numTruePositive) /len(positiveReviewsResult) \n",
    "    pctTrueNegative = float(numTrueNegative)/len(negativeReviewsResult) \n",
    "    totalAccurate = numTruePositive + numTrueNegative\n",
    "    \n",
    "    \n",
    "    total = len(positiveReviewsResult) + len(negativeReviewsResult) \n",
    "    print (\"Accuracy on positive reviews = \" + \"%.2f\" % (pctTruePositive*100) + \"%\")\n",
    "    print (\"Accurance on negative reviews = \"+\" %.2f\" % (pctTrueNegative*100) + \"%\" )\n",
    "    print(\"Overall accuracy = \" + \" %.2f\" % (totalAccurate*100/total) + \"%\")\n",
    "    \n",
    "    "
   ]
  },
  {
   "cell_type": "code",
   "execution_count": 86,
   "id": "cutting-cattle",
   "metadata": {},
   "outputs": [
    {
     "name": "stdout",
     "output_type": "stream",
     "text": [
      "Accuracy on positive reviews = 90.45%\n",
      "Accurance on negative reviews =  93.82%\n",
      "Overall accuracy =  92.13%\n"
     ]
    }
   ],
   "source": [
    "runDiagnostics(getTestReviewSenti(naiveBayesSentimentalCal))"
   ]
  },
  {
   "cell_type": "markdown",
   "id": "closing-calvin",
   "metadata": {},
   "source": [
    "#### Visualization"
   ]
  },
  {
   "cell_type": "code",
   "execution_count": 115,
   "id": "registered-diversity",
   "metadata": {},
   "outputs": [
    {
     "data": {
      "image/png": "[encoded data removed]",
      "text/plain": [
       "<Figure size 648x288 with 1 Axes>"
      ]
     },
     "metadata": {
      "needs_background": "light"
     },
     "output_type": "display_data"
    }
   ],
   "source": [
    "# creating the dataset\n",
    "\n",
    "data = {'Positive_review':90.45, 'negative_review': 93.82, 'Overall_accuracy':92.13}\n",
    "Accuracy = list(data.keys())\n",
    "Values = list(data.values())\n",
    "  \n",
    "fig = plt.figure(figsize = (9,4))\n",
    " \n",
    "# creating the bar plot\n",
    "plt.bar(Accuracy, Values,color =['green','blue', 'red'],width = 0.2)\n",
    " \n",
    "plt.xlabel(\"\\n\\nPercentage(%)\")\n",
    "plt.ylabel(\"\\n\\nAccuracy\")\n",
    "plt.title(\"Accuracy of NaiveBayes classifier\")\n",
    "plt.show()"
   ]
  },
  {
   "cell_type": "markdown",
   "id": "aggregate-durham",
   "metadata": {},
   "source": [
    "#### By using, NaiveBayes Classifier we obtained Overall accuracy score of about 92.13%.Accuracy of positive and Negative reviews are 90.45 and 93.82 respectively. Hence, We conclude that our Sentimental Classifier Performs well with high accuracy."
   ]
  },
  {
   "cell_type": "code",
   "execution_count": null,
   "id": "behind-french",
   "metadata": {},
   "outputs": [],
   "source": []
  }
 ],
 "metadata": {
  "kernelspec": {
   "display_name": "Python 3",
   "language": "python",
   "name": "python3"
  },
  "language_info": {
   "codemirror_mode": {
    "name": "ipython",
    "version": 3
   },
   "file_extension": ".py",
   "mimetype": "text/x-python",
   "name": "python",
   "nbconvert_exporter": "python",
   "pygments_lexer": "ipython3",
   "version": "3.8.8"
  }
 },
 "nbformat": 4,
 "nbformat_minor": 5
}
